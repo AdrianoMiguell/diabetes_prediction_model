{
 "cells": [
  {
   "cell_type": "code",
   "execution_count": 283,
   "metadata": {},
   "outputs": [],
   "source": [
    "\n",
    "import pandas as pd\n",
    "import numpy as np\n",
    "import seaborn as sns\n",
    "import matplotlib.pyplot as plt\n",
    "import pickle\n",
    "import warnings\n",
    "warnings.filterwarnings(action='ignore')\n",
    "\n",
    "from imblearn.over_sampling import SMOTE\n",
    "\n",
    "from sklearn.preprocessing import MinMaxScaler, StandardScaler\n",
    "from sklearn.model_selection import train_test_split\n",
    "from sklearn.linear_model import LogisticRegression\n",
    "from sklearn.metrics import mean_squared_error, r2_score\n",
    "from sklearn.metrics import classification_report\n",
    "from sklearn.metrics import roc_curve\n",
    "from sklearn.metrics import confusion_matrix, classification_report, roc_curve, roc_auc_score\n"
   ]
  },
  {
   "cell_type": "code",
   "execution_count": 284,
   "metadata": {},
   "outputs": [
    {
     "data": {
      "text/html": [
       "<div>\n",
       "<style scoped>\n",
       "    .dataframe tbody tr th:only-of-type {\n",
       "        vertical-align: middle;\n",
       "    }\n",
       "\n",
       "    .dataframe tbody tr th {\n",
       "        vertical-align: top;\n",
       "    }\n",
       "\n",
       "    .dataframe thead th {\n",
       "        text-align: right;\n",
       "    }\n",
       "</style>\n",
       "<table border=\"1\" class=\"dataframe\">\n",
       "  <thead>\n",
       "    <tr style=\"text-align: right;\">\n",
       "      <th></th>\n",
       "      <th>gender</th>\n",
       "      <th>age</th>\n",
       "      <th>hypertension</th>\n",
       "      <th>heart_disease</th>\n",
       "      <th>smoking_history</th>\n",
       "      <th>bmi</th>\n",
       "      <th>HbA1c_level</th>\n",
       "      <th>blood_glucose_level</th>\n",
       "      <th>diabetes</th>\n",
       "    </tr>\n",
       "  </thead>\n",
       "  <tbody>\n",
       "    <tr>\n",
       "      <th>0</th>\n",
       "      <td>Female</td>\n",
       "      <td>80.0</td>\n",
       "      <td>0</td>\n",
       "      <td>1</td>\n",
       "      <td>never</td>\n",
       "      <td>25.19</td>\n",
       "      <td>6.6</td>\n",
       "      <td>140</td>\n",
       "      <td>0</td>\n",
       "    </tr>\n",
       "    <tr>\n",
       "      <th>1</th>\n",
       "      <td>Female</td>\n",
       "      <td>54.0</td>\n",
       "      <td>0</td>\n",
       "      <td>0</td>\n",
       "      <td>No Info</td>\n",
       "      <td>27.32</td>\n",
       "      <td>6.6</td>\n",
       "      <td>80</td>\n",
       "      <td>0</td>\n",
       "    </tr>\n",
       "    <tr>\n",
       "      <th>2</th>\n",
       "      <td>Male</td>\n",
       "      <td>28.0</td>\n",
       "      <td>0</td>\n",
       "      <td>0</td>\n",
       "      <td>never</td>\n",
       "      <td>27.32</td>\n",
       "      <td>5.7</td>\n",
       "      <td>158</td>\n",
       "      <td>0</td>\n",
       "    </tr>\n",
       "    <tr>\n",
       "      <th>3</th>\n",
       "      <td>Female</td>\n",
       "      <td>36.0</td>\n",
       "      <td>0</td>\n",
       "      <td>0</td>\n",
       "      <td>current</td>\n",
       "      <td>23.45</td>\n",
       "      <td>5.0</td>\n",
       "      <td>155</td>\n",
       "      <td>0</td>\n",
       "    </tr>\n",
       "    <tr>\n",
       "      <th>4</th>\n",
       "      <td>Male</td>\n",
       "      <td>76.0</td>\n",
       "      <td>1</td>\n",
       "      <td>1</td>\n",
       "      <td>current</td>\n",
       "      <td>20.14</td>\n",
       "      <td>4.8</td>\n",
       "      <td>155</td>\n",
       "      <td>0</td>\n",
       "    </tr>\n",
       "  </tbody>\n",
       "</table>\n",
       "</div>"
      ],
      "text/plain": [
       "   gender   age  hypertension  heart_disease smoking_history    bmi  \\\n",
       "0  Female  80.0             0              1           never  25.19   \n",
       "1  Female  54.0             0              0         No Info  27.32   \n",
       "2    Male  28.0             0              0           never  27.32   \n",
       "3  Female  36.0             0              0         current  23.45   \n",
       "4    Male  76.0             1              1         current  20.14   \n",
       "\n",
       "   HbA1c_level  blood_glucose_level  diabetes  \n",
       "0          6.6                  140         0  \n",
       "1          6.6                   80         0  \n",
       "2          5.7                  158         0  \n",
       "3          5.0                  155         0  \n",
       "4          4.8                  155         0  "
      ]
     },
     "execution_count": 284,
     "metadata": {},
     "output_type": "execute_result"
    }
   ],
   "source": [
    "df = pd.read_csv('./diabetes_prediction_dataset.csv')\n",
    "df.head()"
   ]
  },
  {
   "cell_type": "code",
   "execution_count": 285,
   "metadata": {},
   "outputs": [
    {
     "name": "stdout",
     "output_type": "stream",
     "text": [
      "<class 'pandas.core.frame.DataFrame'>\n",
      "RangeIndex: 100000 entries, 0 to 99999\n",
      "Data columns (total 9 columns):\n",
      " #   Column               Non-Null Count   Dtype  \n",
      "---  ------               --------------   -----  \n",
      " 0   gender               100000 non-null  object \n",
      " 1   age                  100000 non-null  float64\n",
      " 2   hypertension         100000 non-null  int64  \n",
      " 3   heart_disease        100000 non-null  int64  \n",
      " 4   smoking_history      100000 non-null  object \n",
      " 5   bmi                  100000 non-null  float64\n",
      " 6   HbA1c_level          100000 non-null  float64\n",
      " 7   blood_glucose_level  100000 non-null  int64  \n",
      " 8   diabetes             100000 non-null  int64  \n",
      "dtypes: float64(3), int64(4), object(2)\n",
      "memory usage: 6.9+ MB\n"
     ]
    }
   ],
   "source": [
    "df.info()"
   ]
  },
  {
   "cell_type": "code",
   "execution_count": 286,
   "metadata": {},
   "outputs": [
    {
     "data": {
      "text/html": [
       "<div>\n",
       "<style scoped>\n",
       "    .dataframe tbody tr th:only-of-type {\n",
       "        vertical-align: middle;\n",
       "    }\n",
       "\n",
       "    .dataframe tbody tr th {\n",
       "        vertical-align: top;\n",
       "    }\n",
       "\n",
       "    .dataframe thead th {\n",
       "        text-align: right;\n",
       "    }\n",
       "</style>\n",
       "<table border=\"1\" class=\"dataframe\">\n",
       "  <thead>\n",
       "    <tr style=\"text-align: right;\">\n",
       "      <th></th>\n",
       "      <th>count</th>\n",
       "      <th>mean</th>\n",
       "      <th>std</th>\n",
       "      <th>min</th>\n",
       "      <th>25%</th>\n",
       "      <th>50%</th>\n",
       "      <th>75%</th>\n",
       "      <th>max</th>\n",
       "    </tr>\n",
       "  </thead>\n",
       "  <tbody>\n",
       "    <tr>\n",
       "      <th>age</th>\n",
       "      <td>100000.0</td>\n",
       "      <td>41.89</td>\n",
       "      <td>22.52</td>\n",
       "      <td>0.08</td>\n",
       "      <td>24.00</td>\n",
       "      <td>43.00</td>\n",
       "      <td>60.00</td>\n",
       "      <td>80.00</td>\n",
       "    </tr>\n",
       "    <tr>\n",
       "      <th>hypertension</th>\n",
       "      <td>100000.0</td>\n",
       "      <td>0.07</td>\n",
       "      <td>0.26</td>\n",
       "      <td>0.00</td>\n",
       "      <td>0.00</td>\n",
       "      <td>0.00</td>\n",
       "      <td>0.00</td>\n",
       "      <td>1.00</td>\n",
       "    </tr>\n",
       "    <tr>\n",
       "      <th>heart_disease</th>\n",
       "      <td>100000.0</td>\n",
       "      <td>0.04</td>\n",
       "      <td>0.19</td>\n",
       "      <td>0.00</td>\n",
       "      <td>0.00</td>\n",
       "      <td>0.00</td>\n",
       "      <td>0.00</td>\n",
       "      <td>1.00</td>\n",
       "    </tr>\n",
       "    <tr>\n",
       "      <th>bmi</th>\n",
       "      <td>100000.0</td>\n",
       "      <td>27.32</td>\n",
       "      <td>6.64</td>\n",
       "      <td>10.01</td>\n",
       "      <td>23.63</td>\n",
       "      <td>27.32</td>\n",
       "      <td>29.58</td>\n",
       "      <td>95.69</td>\n",
       "    </tr>\n",
       "    <tr>\n",
       "      <th>HbA1c_level</th>\n",
       "      <td>100000.0</td>\n",
       "      <td>5.53</td>\n",
       "      <td>1.07</td>\n",
       "      <td>3.50</td>\n",
       "      <td>4.80</td>\n",
       "      <td>5.80</td>\n",
       "      <td>6.20</td>\n",
       "      <td>9.00</td>\n",
       "    </tr>\n",
       "    <tr>\n",
       "      <th>blood_glucose_level</th>\n",
       "      <td>100000.0</td>\n",
       "      <td>138.06</td>\n",
       "      <td>40.71</td>\n",
       "      <td>80.00</td>\n",
       "      <td>100.00</td>\n",
       "      <td>140.00</td>\n",
       "      <td>159.00</td>\n",
       "      <td>300.00</td>\n",
       "    </tr>\n",
       "    <tr>\n",
       "      <th>diabetes</th>\n",
       "      <td>100000.0</td>\n",
       "      <td>0.08</td>\n",
       "      <td>0.28</td>\n",
       "      <td>0.00</td>\n",
       "      <td>0.00</td>\n",
       "      <td>0.00</td>\n",
       "      <td>0.00</td>\n",
       "      <td>1.00</td>\n",
       "    </tr>\n",
       "  </tbody>\n",
       "</table>\n",
       "</div>"
      ],
      "text/plain": [
       "                        count    mean    std    min     25%     50%     75%  \\\n",
       "age                  100000.0   41.89  22.52   0.08   24.00   43.00   60.00   \n",
       "hypertension         100000.0    0.07   0.26   0.00    0.00    0.00    0.00   \n",
       "heart_disease        100000.0    0.04   0.19   0.00    0.00    0.00    0.00   \n",
       "bmi                  100000.0   27.32   6.64  10.01   23.63   27.32   29.58   \n",
       "HbA1c_level          100000.0    5.53   1.07   3.50    4.80    5.80    6.20   \n",
       "blood_glucose_level  100000.0  138.06  40.71  80.00  100.00  140.00  159.00   \n",
       "diabetes             100000.0    0.08   0.28   0.00    0.00    0.00    0.00   \n",
       "\n",
       "                        max  \n",
       "age                   80.00  \n",
       "hypertension           1.00  \n",
       "heart_disease          1.00  \n",
       "bmi                   95.69  \n",
       "HbA1c_level            9.00  \n",
       "blood_glucose_level  300.00  \n",
       "diabetes               1.00  "
      ]
     },
     "execution_count": 286,
     "metadata": {},
     "output_type": "execute_result"
    }
   ],
   "source": [
    "df.describe().T.round(2)"
   ]
  },
  {
   "cell_type": "code",
   "execution_count": 287,
   "metadata": {},
   "outputs": [
    {
     "data": {
      "text/plain": [
       "gender\n",
       "Female    58552\n",
       "Male      41430\n",
       "Other        18\n",
       "Name: count, dtype: int64"
      ]
     },
     "execution_count": 287,
     "metadata": {},
     "output_type": "execute_result"
    }
   ],
   "source": [
    "df['gender'].value_counts()"
   ]
  },
  {
   "cell_type": "code",
   "execution_count": 288,
   "metadata": {},
   "outputs": [],
   "source": [
    "# Mapeamento dos valores\n",
    "gender_map = {'Male': 0, 'Female': 1, 'Other': 2}\n",
    "\n",
    "# Aplicando o mapeamento à coluna 'gender'\n",
    "df['gender'] = df['gender'].map(gender_map)\n"
   ]
  },
  {
   "cell_type": "code",
   "execution_count": 289,
   "metadata": {},
   "outputs": [
    {
     "data": {
      "text/plain": [
       "gender\n",
       "1    58552\n",
       "0    41430\n",
       "2       18\n",
       "Name: count, dtype: int64"
      ]
     },
     "execution_count": 289,
     "metadata": {},
     "output_type": "execute_result"
    }
   ],
   "source": [
    "df['gender'].value_counts()"
   ]
  },
  {
   "cell_type": "code",
   "execution_count": 290,
   "metadata": {},
   "outputs": [
    {
     "data": {
      "text/plain": [
       "smoking_history\n",
       "No Info        35816\n",
       "never          35095\n",
       "former          9352\n",
       "current         9286\n",
       "not current     6447\n",
       "ever            4004\n",
       "Name: count, dtype: int64"
      ]
     },
     "execution_count": 290,
     "metadata": {},
     "output_type": "execute_result"
    }
   ],
   "source": [
    "df['smoking_history'].value_counts()"
   ]
  },
  {
   "cell_type": "code",
   "execution_count": 291,
   "metadata": {},
   "outputs": [],
   "source": [
    "smoking_map = {\n",
    "    'No Info': 0,        # Sem informação\n",
    "    'never': 1,          # Nunca fumou\n",
    "    'former': 2,         # Ex-fumante\n",
    "    'not current': 2,    # Não é fumante atualmente (pode ser similar a \"former\")\n",
    "    'ever': 3,           # Já fumou em algum momento (pode ser entre \"former\" e \"current\")\n",
    "    'current': 4         # Fumante atual\n",
    "}\n",
    "\n",
    "df['smoking_history'] = df['smoking_history'].map(smoking_map)\n"
   ]
  },
  {
   "cell_type": "code",
   "execution_count": 292,
   "metadata": {},
   "outputs": [
    {
     "data": {
      "text/plain": [
       "smoking_history\n",
       "0    35816\n",
       "1    35095\n",
       "2    15799\n",
       "4     9286\n",
       "3     4004\n",
       "Name: count, dtype: int64"
      ]
     },
     "execution_count": 292,
     "metadata": {},
     "output_type": "execute_result"
    }
   ],
   "source": [
    "df['smoking_history'].value_counts()"
   ]
  },
  {
   "cell_type": "code",
   "execution_count": 293,
   "metadata": {},
   "outputs": [
    {
     "data": {
      "text/plain": [
       "diabetes\n",
       "0    91500\n",
       "1     8500\n",
       "Name: count, dtype: int64"
      ]
     },
     "execution_count": 293,
     "metadata": {},
     "output_type": "execute_result"
    }
   ],
   "source": [
    "df['diabetes'].value_counts()"
   ]
  },
  {
   "cell_type": "code",
   "execution_count": 301,
   "metadata": {},
   "outputs": [
    {
     "name": "stdout",
     "output_type": "stream",
     "text": [
      "Acurácia nos dados de treino: 0.8870600643943599\n",
      "Acurácia nos dados de teste: 0.8606\n",
      "              precision    recall  f1-score   support\n",
      "\n",
      "Non-Diabetic       0.99      0.89      0.94      9150\n",
      "    Diabetic       0.42      0.86      0.57       850\n",
      "\n",
      "    accuracy                           0.89     10000\n",
      "   macro avg       0.70      0.88      0.75     10000\n",
      "weighted avg       0.94      0.89      0.90     10000\n",
      "\n"
     ]
    }
   ],
   "source": [
    "# Separando as features (X) e a variável alvo (y)\n",
    "X = df.drop(columns=['diabetes'], axis=1)\n",
    "y = df['diabetes']\n",
    "\n",
    "# Dividindo os dados em treino e teste\n",
    "Xtrain, Xtest, ytrain, ytest = train_test_split(X, y,\n",
    "                                                test_size=0.1,\n",
    "                                                stratify=y,\n",
    "                                                random_state=42)\n",
    "\n",
    "# Aplicar SMOTE no conjunto de treino\n",
    "smote = SMOTE(sampling_strategy=0.75, random_state=42) \n",
    "Xtrain_SMOTE, ytrain_SMOTE = smote.fit_resample(Xtrain, ytrain)\n",
    "\n",
    "# Aplicando a padronização\n",
    "scaler = StandardScaler()\n",
    "\n",
    "# Padronizando os dados de treino e teste\n",
    "Xtrain_SMOTE = scaler.fit_transform(Xtrain_SMOTE)\n",
    "Xtest = scaler.transform(Xtest)\n",
    "\n",
    "# Criando o modelo de Regressão Logística com class_weight='balanced'\n",
    "lr = LogisticRegression(class_weight={0: 1, 1: 2}, max_iter=500)\n",
    "\n",
    "# Treinando o modelo com os dados padronizados\n",
    "lr.fit(Xtrain_SMOTE, ytrain_SMOTE)\n",
    "\n",
    "# Avaliando o modelo com o limiar ajustado (ponto 1)\n",
    "threshold = 0.6  # Ajuste do limiar de decisão\n",
    "\n",
    "# Previsões com o limiar ajustado\n",
    "ypred_adjusted = (lr.predict_proba(Xtest)[:, 1] >= threshold).astype(int)\n",
    "\n",
    "# Avaliando o modelo\n",
    "train_score = lr.score(Xtrain_SMOTE, ytrain_SMOTE)\n",
    "test_score = lr.score(Xtest, ytest)\n",
    "\n",
    "# Avaliando o desempenho com o limiar ajustado\n",
    "report_adjusted = classification_report(ytest, ypred_adjusted, target_names=['Non-Diabetic', 'Diabetic'])\n",
    "print(f'Acurácia nos dados de treino: {lr.score(Xtrain_SMOTE, ytrain_SMOTE)}')\n",
    "print(f'Acurácia nos dados de teste: {lr.score(Xtest, ytest)}')\n",
    "print(report_adjusted)"
   ]
  },
  {
   "cell_type": "code",
   "execution_count": 300,
   "metadata": {},
   "outputs": [],
   "source": [
    "# Função para padronizar e testar a previsão\n",
    "def result_test(new_pred, scaler):\n",
    "    # Padroniza a nova previsão com o scaler treinado\n",
    "    new_pred_scaled = scaler.transform(new_pred)\n",
    "    \n",
    "    # Faz a previsão e obtém a probabilidade\n",
    "    result = lr.predict(new_pred_scaled)[0]\n",
    "    result_prob = round(lr.predict_proba(new_pred_scaled)[:, 1][0], 4)\n",
    "    \n",
    "    if result == 1:\n",
    "        print(f'Resultado: {result} | Existe {result_prob*100}% chance de o(a) paciente ser diabético.')\n",
    "    else:\n",
    "        print(f'Resultado: {result} | Existe {result_prob*100}% chance de o(a) paciente não ser diabético.')"
   ]
  },
  {
   "cell_type": "code",
   "execution_count": 296,
   "metadata": {},
   "outputs": [],
   "source": [
    "# Exemplo 1\n",
    "new_pred1 = np.array([0, 45.0, 1, 0, 1, 30.50, 6.0, 150]).reshape(1, -1)\n",
    "# Exemplo 2\n",
    "new_pred2 = np.array([1, 55.0, 0, 1, 4, 28.70, 7.5, 170]).reshape(1, -1)\n",
    "# Exemplo 3\n",
    "new_pred3 = np.array([0, 35.0, 0, 0, 0, 24.60, 5.2, 110]).reshape(1, -1)\n",
    "# Exemplo 4\n",
    "new_pred4 = np.array([1, 25.0, 0, 0, 2, 26.50, 4.8, 95]).reshape(1, -1)\n",
    "# Exemplo 5\n",
    "new_pred5 = np.array([1, 65.0, 1, 1, 3, 29.80, 6.8, 210]).reshape(1, -1)"
   ]
  },
  {
   "cell_type": "code",
   "execution_count": 297,
   "metadata": {},
   "outputs": [
    {
     "name": "stdout",
     "output_type": "stream",
     "text": [
      "Resultado: 0 | Existe 45.540000000000006% chance de o(a) paciente não ser diabético.\n",
      "\n",
      "Resultado: 1 | Existe 95.19999999999999% chance de o(a) paciente ser diabético.\n",
      "\n",
      "Resultado: 0 | Existe 1.0999999999999999% chance de o(a) paciente não ser diabético.\n",
      "\n",
      "Resultado: 0 | Existe 0.05% chance de o(a) paciente não ser diabético.\n",
      "\n",
      "Resultado: 1 | Existe 95.61% chance de o(a) paciente ser diabético.\n"
     ]
    }
   ],
   "source": [
    "\n",
    "# Teste os exemplos\n",
    "result_test(new_pred1, scaler)\n",
    "print()\n",
    "result_test(new_pred2, scaler)\n",
    "print()\n",
    "result_test(new_pred3, scaler)\n",
    "print()\n",
    "result_test(new_pred4, scaler)\n",
    "print()\n",
    "result_test(new_pred5, scaler)"
   ]
  }
 ],
 "metadata": {
  "kernelspec": {
   "display_name": "Python 3",
   "language": "python",
   "name": "python3"
  },
  "language_info": {
   "codemirror_mode": {
    "name": "ipython",
    "version": 3
   },
   "file_extension": ".py",
   "mimetype": "text/x-python",
   "name": "python",
   "nbconvert_exporter": "python",
   "pygments_lexer": "ipython3",
   "version": "3.12.1"
  }
 },
 "nbformat": 4,
 "nbformat_minor": 2
}
